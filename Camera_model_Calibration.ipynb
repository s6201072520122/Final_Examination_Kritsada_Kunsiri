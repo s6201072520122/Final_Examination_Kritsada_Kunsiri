{
 "cells": [
  {
   "cell_type": "code",
   "execution_count": 1,
   "metadata": {},
   "outputs": [],
   "source": [
    "import numpy as np\n",
    "import cv2\n",
    "import os"
   ]
  },
  {
   "cell_type": "code",
   "execution_count": 2,
   "metadata": {},
   "outputs": [],
   "source": [
    "chessboard_size = (8,6) # Your chessboard size\n",
    "\n",
    "# iterative termination criteria, maximum iterationm and epsilon\n",
    "term_criteria = (cv2.TermCriteria_EPS+ cv2.TermCriteria_MAX_ITER, 30, 0.001)"
   ]
  },
  {
   "cell_type": "code",
   "execution_count": 3,
   "metadata": {},
   "outputs": [],
   "source": [
    "# List to store object points and images point from all the images.\n",
    "obj_points = list() # 3D points in heterogeneous Xi\n",
    "img_points = list() # 2D points on image xi\n",
    "\n",
    "# Defining the world coordinates for 3D points Xi\n",
    "objp = np.zeros((1, chessboard_size[0] * chessboard_size[1], 3), np.float32)\n",
    "objp[0,:,:2] = np.mgrid[0:chessboard_size[0], 0:chessboard_size[1]].T.reshape(-1, 2)\n",
    "prev_img_shape = None"
   ]
  },
  {
   "cell_type": "code",
   "execution_count": 4,
   "metadata": {},
   "outputs": [
    {
     "name": "stdout",
     "output_type": "stream",
     "text": [
      "c:\\Users\\Admin\\Desktop\\Final_examination_Kritsada_Kunsiri/images/stereo/calibrationdata/\n",
      "left-0000.png\n",
      "left-0001.png\n",
      "left-0002.png\n",
      "left-0003.png\n",
      "left-0004.png\n",
      "left-0005.png\n",
      "left-0006.png\n",
      "left-0007.png\n",
      "left-0008.png\n",
      "left-0009.png\n",
      "left-0010.png\n",
      "left-0011.png\n",
      "left-0012.png\n",
      "left-0013.png\n",
      "left-0014.png\n",
      "left-0015.png\n",
      "left-0016.png\n",
      "left-0017.png\n",
      "left-0018.png\n",
      "left-0019.png\n",
      "left-0020.png\n",
      "left-0021.png\n",
      "left-0022.png\n",
      "left-0023.png\n",
      "left-0024.png\n",
      "left-0025.png\n",
      "left-0026.png\n",
      "left-0027.png\n",
      "left-0028.png\n",
      "left-0029.png\n",
      "left-0030.png\n",
      "left-0031.png\n",
      "left-0032.png\n",
      "left-0033.png\n",
      "left-0034.png\n",
      "left-0035.png\n",
      "left-0036.png\n",
      "left-0037.png\n",
      "left-0038.png\n",
      "left-0039.png\n",
      "left-0040.png\n",
      "left-0041.png\n",
      "left-0042.png\n",
      "left-0043.png\n",
      "left-0044.png\n",
      "left-0045.png\n",
      "left-0046.png\n",
      "left-0047.png\n",
      "left-0048.png\n",
      "left-0049.png\n",
      "left-0050.png\n",
      "left-0051.png\n",
      "left-0052.png\n",
      "left-0053.png\n",
      "left-0054.png\n",
      "left-0055.png\n",
      "left-0056.png\n",
      "right-0000.png\n",
      "right-0001.png\n",
      "right-0002.png\n",
      "right-0003.png\n",
      "right-0004.png\n",
      "right-0005.png\n",
      "right-0006.png\n",
      "right-0007.png\n",
      "right-0008.png\n",
      "right-0009.png\n",
      "right-0010.png\n",
      "right-0011.png\n",
      "right-0012.png\n",
      "right-0013.png\n",
      "right-0014.png\n",
      "right-0015.png\n",
      "right-0016.png\n",
      "right-0017.png\n",
      "right-0018.png\n",
      "right-0019.png\n",
      "right-0020.png\n",
      "right-0021.png\n",
      "right-0022.png\n",
      "right-0023.png\n",
      "right-0024.png\n",
      "right-0025.png\n",
      "right-0026.png\n",
      "right-0027.png\n",
      "right-0028.png\n",
      "right-0029.png\n",
      "right-0030.png\n",
      "right-0031.png\n",
      "right-0032.png\n",
      "right-0033.png\n",
      "right-0034.png\n",
      "right-0035.png\n",
      "right-0036.png\n",
      "right-0037.png\n",
      "right-0038.png\n",
      "right-0039.png\n",
      "right-0040.png\n",
      "right-0041.png\n",
      "right-0042.png\n",
      "right-0043.png\n",
      "right-0044.png\n",
      "right-0045.png\n",
      "right-0046.png\n",
      "right-0047.png\n",
      "right-0048.png\n",
      "right-0049.png\n",
      "right-0050.png\n",
      "right-0051.png\n",
      "right-0052.png\n",
      "right-0053.png\n",
      "right-0054.png\n",
      "right-0055.png\n",
      "right-0056.png\n"
     ]
    }
   ],
   "source": [
    "image_path = os.getcwd()+'/images/stereo/calibrationdata/'\n",
    "images = list()\n",
    "image_size = None\n",
    "print(image_path)\n",
    "\n",
    "# Preparing calibration files\n",
    "for filename in os.listdir(image_path) :\n",
    "    print(filename)\n",
    "    img = cv2.imread(image_path+'{}'.format(filename))\n",
    "    images.append(img)"
   ]
  },
  {
   "cell_type": "code",
   "execution_count": null,
   "metadata": {},
   "outputs": [],
   "source": [
    "for image in images :\n",
    "    img_gray = cv2.cvtColor(image, cv2.COLOR_BGR2GRAY)\n",
    "    ret, corners = cv2.findChessboardCorners(img_gray, chessboard_size, None) # xi in pixel (20,15)\n",
    "    image_size = img_gray.shape\n",
    "    # If found add obj points, image points afterthat refining them\n",
    "    if ret == True :\n",
    "        #print('Found')\n",
    "        obj_points.append(objp) # Add Xi 3D\n",
    "        \n",
    "        corners2 = cv2.cornerSubPix(img_gray, corners, (11,11), (-1,-1), term_criteria) # Refining xi -> xi in subpixel, xi -> floating point (19.7, 15.1)\n",
    "        img_points.append(corners2) # Add xi 2D\n",
    "\n",
    "        #Draw and display the chessboard corners\n",
    "        img = cv2.drawChessboardCorners(image, chessboard_size, corners2, ret)\n",
    "        #cv2.imshow('frame', img)\n",
    "        cv2.waitKey(100)\n",
    "\n",
    "cv2.destroyAllWindows()"
   ]
  },
  {
   "cell_type": "code",
   "execution_count": null,
   "metadata": {},
   "outputs": [],
   "source": [
    "# Start calibration argmin ||xi - PXi||^2 , xi = PXi\n",
    "print('Calibration')\n",
    "ret, mtx, dist, rvecs, tvecs = cv2.calibrateCamera(obj_points,img_points, image_size[::-1] , None, None)"
   ]
  },
  {
   "cell_type": "code",
   "execution_count": null,
   "metadata": {},
   "outputs": [],
   "source": [
    "img = images[0].copy()\n",
    "h, w = img.shape[:2]\n",
    "newcameramtx, roi = cv2.getOptimalNewCameraMatrix(mtx,dist,(w,h),1,(w,h))\n",
    "print(mtx)\n",
    "print('Optimal K')\n",
    "print(newcameramtx, roi)"
   ]
  },
  {
   "cell_type": "code",
   "execution_count": null,
   "metadata": {},
   "outputs": [],
   "source": [
    "dst = cv2.undistort(img, mtx, dist, None, newcameramtx)\n",
    "undistored = cv2.undistort(img, mtx, dist, None, None)\n",
    "x,y,w,h = roi\n",
    "dst = dst[y:y+h, x:x+w]"
   ]
  },
  {
   "cell_type": "code",
   "execution_count": null,
   "metadata": {},
   "outputs": [],
   "source": [
    "mean_error = 0\n",
    "for i in range(len(obj_points)) :\n",
    "    reprojected_point,_ = cv2.projectPoints(obj_points[i], rvecs[i], tvecs[i], mtx, dist)\n",
    "    error = cv2.norm(img_points[i], reprojected_point, cv2.NORM_L2)/len(reprojected_point)\n",
    "    mean_error += error\n",
    "\n",
    "print(\"Reprojection error: {}\".format(mean_error))\n",
    "\n",
    "while True :\n",
    "    cv2.imshow('calibrated', dst)\n",
    "    cv2.imshow('undistort', undistored)\n",
    "    if cv2.waitKey(1) & 0xFF == 27 : \n",
    "        break\n",
    "cv2.destroyAllWindows()"
   ]
  },
  {
   "cell_type": "code",
   "execution_count": null,
   "metadata": {},
   "outputs": [],
   "source": [
    "#Saving parameters into numpy format\n",
    "np.save(\"./new-camera_params_Final_examination/ret\", ret)\n",
    "np.save(\"./new-camera_params_Final_examination/K\", mtx)\n",
    "np.save(\"./new-camera_params_Final_examination/dist\", dist)\n",
    "np.save(\"./new-camera_params_Final_examination/rvecs\", rvecs)\n",
    "np.save(\"./new-camera_params_Final_examination/tvecs\", tvecs)"
   ]
  }
 ],
 "metadata": {
  "interpreter": {
   "hash": "dcacb0086e9a4f4eabd41c33bf4faac5ea0a3337ed3f5eff0680afa930572c04"
  },
  "kernelspec": {
   "display_name": "Python 3.9.7 64-bit",
   "name": "python3"
  },
  "language_info": {
   "codemirror_mode": {
    "name": "ipython",
    "version": 3
   },
   "file_extension": ".py",
   "mimetype": "text/x-python",
   "name": "python",
   "nbconvert_exporter": "python",
   "pygments_lexer": "ipython3",
   "version": "3.9.7"
  },
  "orig_nbformat": 4
 },
 "nbformat": 4,
 "nbformat_minor": 2
}
